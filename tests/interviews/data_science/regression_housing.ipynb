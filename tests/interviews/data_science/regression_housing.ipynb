{
 "cells": [
  {
   "cell_type": "markdown",
   "metadata": {},
   "source": [
    "# Classification\n",
    "\n",
    "## Load pandas and sklearn"
   ]
  },
  {
   "cell_type": "code",
   "execution_count": 47,
   "metadata": {},
   "outputs": [],
   "source": [
    "import pandas as pd\n",
    "import numpy as np\n",
    "from sklearn.decomposition import PCA\n",
    "from sklearn.model_selection import train_test_split\n",
    "from sklearn.linear_model import LinearRegression\n",
    "from sklearn.metrics import mean_squared_error, mean_absolute_error, mean_absolute_percentage_error, r2_score\n",
    "from sklearn.ensemble import GradientBoostingRegressor, RandomForestRegressor\n",
    "from sklearn.model_selection import GridSearchCV, KFold\n",
    "\n",
    "from sklearn.pipeline import Pipeline\n",
    "from sklearn.preprocessing import StandardScaler\n"
   ]
  },
  {
   "cell_type": "markdown",
   "metadata": {},
   "source": [
    "\n",
    "## Loading the R magic along with the tidyverse"
   ]
  },
  {
   "cell_type": "code",
   "execution_count": 48,
   "metadata": {},
   "outputs": [
    {
     "name": "stdout",
     "output_type": "stream",
     "text": [
      "The rpy2.ipython extension is already loaded. To reload it, use:\n",
      "  %reload_ext rpy2.ipython\n"
     ]
    },
    {
     "data": {
      "text/html": [
       "\n",
       "        <span>StrVector with 17 elements.</span>\n",
       "        <table>\n",
       "        <tbody>\n",
       "          <tr>\n",
       "          \n",
       "            <td>\n",
       "            'forcats'\n",
       "            </td>\n",
       "          \n",
       "            <td>\n",
       "            'stringr'\n",
       "            </td>\n",
       "          \n",
       "            <td>\n",
       "            'dplyr'\n",
       "            </td>\n",
       "          \n",
       "            <td>\n",
       "            ...\n",
       "            </td>\n",
       "          \n",
       "            <td>\n",
       "            'datasets'\n",
       "            </td>\n",
       "          \n",
       "            <td>\n",
       "            'methods'\n",
       "            </td>\n",
       "          \n",
       "            <td>\n",
       "            'base'\n",
       "            </td>\n",
       "          \n",
       "          </tr>\n",
       "        </tbody>\n",
       "        </table>\n",
       "        "
      ],
      "text/plain": [
       "<rpy2.robjects.vectors.StrVector object at 0x7f73f616a040> [RTYPES.STRSXP]\n",
       "R classes: ('character',)\n",
       "['forcats', 'stringr', 'dplyr', 'purrr', ..., 'utils', 'datasets', 'methods', 'base']"
      ]
     },
     "execution_count": 48,
     "metadata": {},
     "output_type": "execute_result"
    }
   ],
   "source": [
    "%load_ext rpy2.ipython\n",
    "%R R.version.string\n",
    "%R library(tidyverse)"
   ]
  },
  {
   "cell_type": "markdown",
   "metadata": {},
   "source": [
    "\n",
    "\n",
    "## Training and testing sets\n",
    "\n",
    "* Load the data\n",
    "* Define the model matrices\n",
    "* Split into training and testing"
   ]
  },
  {
   "cell_type": "code",
   "execution_count": 49,
   "metadata": {},
   "outputs": [],
   "source": [
    "data = pd.read_csv('data/housing_tidy.csv')\n",
    "\n",
    "x, y = data.drop(['MEDV'], axis=1), data[['MEDV']]\n",
    "\n",
    "x_train, x_test, y_train, y_test = train_test_split(x, y, test_size=0.2, random_state=42)"
   ]
  },
  {
   "cell_type": "code",
   "execution_count": 50,
   "metadata": {},
   "outputs": [
    {
     "name": "stdout",
     "output_type": "stream",
     "text": [
      "Fitting 5 folds for each of 13 candidates, totalling 65 fits\n",
      "gs.best_score_: -0.16994613305572956\n",
      "gs.best_params_: {'pca__n_components': 12}\n",
      "{'mse': 26.096055263393207, 'mae': 3.3237656233710107, 'mape': 0.17833638745204228, 'r2': 0.6441468837583112}\n"
     ]
    }
   ],
   "source": [
    "# define model\n",
    "def pipe(n_components=None):\n",
    "  return Pipeline(steps=[\n",
    "    ('scaler', StandardScaler()),\n",
    "    ('pca', PCA(n_components=n_components)),\n",
    "    ('rgr', LinearRegression())\n",
    "  ])\n",
    "model = pipe()\n",
    "\n",
    "# define cross-validation\n",
    "fold = KFold(n_splits=5, shuffle=True, random_state=42)\n",
    "\n",
    "# define grid search\n",
    "grid = {\n",
    "  'pca__n_components': range(1, x.shape[1] + 1)\n",
    "}\n",
    "gs = GridSearchCV(model, grid,scoring='neg_mean_absolute_percentage_error',cv=fold, verbose=1)\n",
    "\n",
    "# fit model\n",
    "gs.fit(x_train, y_train)\n",
    "\n",
    "# evaluate model\n",
    "print ('gs.best_score_:', gs.best_score_)\n",
    "print ('gs.best_params_:', gs.best_params_)\n",
    "\n",
    "def metrics(y_test, y_pred):\n",
    "  return {\n",
    "    'mse': mean_squared_error(y_test, y_pred),\n",
    "    'mae': mean_absolute_error(y_test, y_pred),\n",
    "    'mape': mean_absolute_percentage_error(y_test, y_pred),\n",
    "    'r2': r2_score(y_test, y_pred)\n",
    "  }\n",
    "\n",
    "y_pred = gs.predict(x_test)\n",
    "print(metrics(y_test, y_pred))"
   ]
  },
  {
   "cell_type": "code",
   "execution_count": null,
   "metadata": {},
   "outputs": [],
   "source": [
    "\n",
    "\n"
   ]
  },
  {
   "cell_type": "code",
   "execution_count": 62,
   "metadata": {},
   "outputs": [
    {
     "name": "stdout",
     "output_type": "stream",
     "text": [
      "Fitting 5 folds for each of 54 candidates, totalling 270 fits\n",
      "gs.best_score_: -0.11537667814112144\n",
      "gs.best_params_: {'max_depth': None, 'max_features': 'sqrt', 'n_estimators': 500}\n",
      "{'mse': 10.018216780000062, 'mae': 1.9781156862745144, 'mape': 0.1015224236135359, 'r2': 0.863388790973757}\n"
     ]
    }
   ],
   "source": [
    "# Let's try random forests\n",
    "forest = RandomForestRegressor(random_state=0)\n",
    "\n",
    "grid = { \n",
    "    'n_estimators': [100, 200, 500],\n",
    "    'max_features': ['auto', 'sqrt', 'log2'],\n",
    "    'max_depth' : [None, 4, 5, 6, 7, 8]\n",
    "}\n",
    "gs = GridSearchCV(forest, grid,scoring='neg_mean_absolute_percentage_error',cv=fold, verbose=1)\n",
    "\n",
    "# fit model\n",
    "gs.fit(x_train, y_train)\n",
    "\n",
    "# evaluate model\n",
    "print ('gs.best_score_:', gs.best_score_)\n",
    "print ('gs.best_params_:', gs.best_params_)\n",
    "\n",
    "def metrics(y_test, y_pred):\n",
    "  return {\n",
    "    'mse': mean_squared_error(y_test, y_pred),\n",
    "    'mae': mean_absolute_error(y_test, y_pred),\n",
    "    'mape': mean_absolute_percentage_error(y_test, y_pred),\n",
    "    'r2': r2_score(y_test, y_pred)\n",
    "  }\n",
    "\n",
    "y_pred = gs.predict(x_test)\n",
    "print(metrics(y_test, y_pred))"
   ]
  }
 ],
 "metadata": {
  "interpreter": {
   "hash": "0b7713b2f7d4923c599d0c7563a498e33709e74e47bc6b228ba17d3a2d0d202c"
  },
  "kernelspec": {
   "display_name": "Python 3.8.10 64-bit ('ml': conda)",
   "name": "python3"
  },
  "language_info": {
   "codemirror_mode": {
    "name": "ipython",
    "version": 3
   },
   "file_extension": ".py",
   "mimetype": "text/x-python",
   "name": "python",
   "nbconvert_exporter": "python",
   "pygments_lexer": "ipython3",
   "version": "3.8.10"
  },
  "orig_nbformat": 4
 },
 "nbformat": 4,
 "nbformat_minor": 2
}
